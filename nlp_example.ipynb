{
 "cells": [
  {
   "cell_type": "code",
   "execution_count": 1,
   "id": "f609ef25",
   "metadata": {},
   "outputs": [
    {
     "data": {
      "text/plain": [
       "'Urban farming, the practice of cultivating, processing, and distributing food in or around urban areas, is gaining popularity as cities expand and populations grow. It offers a sustainable solution to food security and environmental challenges, utilizing spaces like rooftops, community gardens, and vertical farms. Urban farming reduces food transportation costs, lowers carbon footprints, and provides fresh produce locally. Despite challenges such as limited space and regulatory hurdles, its benefits include improved urban green spaces, economic opportunities, and enhanced community engagement. Urban farming represents a promising step towards sustainable urban development.'"
      ]
     },
     "execution_count": 1,
     "metadata": {},
     "output_type": "execute_result"
    }
   ],
   "source": [
    "text=\"Urban farming, the practice of cultivating, processing, and distributing food in or around urban areas, is gaining popularity as cities expand and populations grow. It offers a sustainable solution to food security and environmental challenges, utilizing spaces like rooftops, community gardens, and vertical farms. Urban farming reduces food transportation costs, lowers carbon footprints, and provides fresh produce locally. Despite challenges such as limited space and regulatory hurdles, its benefits include improved urban green spaces, economic opportunities, and enhanced community engagement. Urban farming represents a promising step towards sustainable urban development.\"\n",
    "text"
   ]
  },
  {
   "cell_type": "code",
   "execution_count": 2,
   "id": "07f95982",
   "metadata": {},
   "outputs": [
    {
     "name": "stderr",
     "output_type": "stream",
     "text": [
      "[nltk_data] Downloading package punkt to\n",
      "[nltk_data]     C:\\Users\\Smita\\AppData\\Roaming\\nltk_data...\n",
      "[nltk_data]   Unzipping tokenizers\\punkt.zip.\n"
     ]
    }
   ],
   "source": [
    "# import \n",
    "import nltk\n",
    "nltk.download('punkt')\n",
    "from nltk.tokenize import sent_tokenize"
   ]
  },
  {
   "cell_type": "code",
   "execution_count": 3,
   "id": "f863832d",
   "metadata": {},
   "outputs": [
    {
     "data": {
      "text/plain": [
       "['Urban farming, the practice of cultivating, processing, and distributing food in or around urban areas, is gaining popularity as cities expand and populations grow.',\n",
       " 'It offers a sustainable solution to food security and environmental challenges, utilizing spaces like rooftops, community gardens, and vertical farms.',\n",
       " 'Urban farming reduces food transportation costs, lowers carbon footprints, and provides fresh produce locally.',\n",
       " 'Despite challenges such as limited space and regulatory hurdles, its benefits include improved urban green spaces, economic opportunities, and enhanced community engagement.',\n",
       " 'Urban farming represents a promising step towards sustainable urban development.']"
      ]
     },
     "execution_count": 3,
     "metadata": {},
     "output_type": "execute_result"
    }
   ],
   "source": [
    "# Split text into sentences\n",
    "sentences = sent_tokenize(text)\n",
    "sentences"
   ]
  },
  {
   "cell_type": "code",
   "execution_count": 4,
   "id": "8d375cd0",
   "metadata": {},
   "outputs": [
    {
     "data": {
      "text/plain": [
       "'Urban farming reduces food transportation costs, lowers carbon footprints, and provides fresh produce locally.'"
      ]
     },
     "execution_count": 4,
     "metadata": {},
     "output_type": "execute_result"
    }
   ],
   "source": [
    "sentences[2]"
   ]
  },
  {
   "cell_type": "code",
   "execution_count": 5,
   "id": "2e4acf35",
   "metadata": {},
   "outputs": [
    {
     "data": {
      "text/plain": [
       "'Urban farming reduces food transportation costs  lowers carbon footprints  and provides fresh produce locally '"
      ]
     },
     "execution_count": 5,
     "metadata": {},
     "output_type": "execute_result"
    }
   ],
   "source": [
    "# Punctuation removal\n",
    "import re\n",
    "\n",
    "# Remove punctuation characters\n",
    "text = re.sub(r\"[^a-zA-Z0-9]\", \" \", sentences[2]) \n",
    "text"
   ]
  },
  {
   "cell_type": "code",
   "execution_count": 6,
   "id": "66ce2685",
   "metadata": {},
   "outputs": [],
   "source": [
    "from nltk.tokenize import word_tokenize"
   ]
  },
  {
   "cell_type": "code",
   "execution_count": 7,
   "id": "53d13ac3",
   "metadata": {},
   "outputs": [
    {
     "name": "stdout",
     "output_type": "stream",
     "text": [
      "['Urban', 'farming', 'reduces', 'food', 'transportation', 'costs', 'lowers', 'carbon', 'footprints', 'and', 'provides', 'fresh', 'produce', 'locally']\n"
     ]
    }
   ],
   "source": [
    "words = word_tokenize(text)\n",
    "print(words)"
   ]
  },
  {
   "cell_type": "code",
   "execution_count": 8,
   "id": "32e81891",
   "metadata": {},
   "outputs": [
    {
     "name": "stderr",
     "output_type": "stream",
     "text": [
      "[nltk_data] Downloading package stopwords to\n",
      "[nltk_data]     C:\\Users\\Smita\\AppData\\Roaming\\nltk_data...\n",
      "[nltk_data]   Unzipping corpora\\stopwords.zip.\n"
     ]
    }
   ],
   "source": [
    "nltk.download('stopwords')\n",
    "from nltk.corpus import stopwords"
   ]
  },
  {
   "cell_type": "code",
   "execution_count": 9,
   "id": "6de9040b",
   "metadata": {},
   "outputs": [
    {
     "name": "stdout",
     "output_type": "stream",
     "text": [
      "['Urban', 'farming', 'reduces', 'food', 'transportation', 'costs', 'lowers', 'carbon', 'footprints', 'provides', 'fresh', 'produce', 'locally']\n"
     ]
    }
   ],
   "source": [
    "# Remove stop words\n",
    "words = [w for w in words if w not in stopwords.words(\"english\")]\n",
    "print(words)"
   ]
  },
  {
   "cell_type": "code",
   "execution_count": 10,
   "id": "a6aa8fcf",
   "metadata": {},
   "outputs": [
    {
     "name": "stdout",
     "output_type": "stream",
     "text": [
      "['de', 'la', 'que', 'el', 'en', 'y', 'a', 'los', 'del', 'se', 'las', 'por', 'un', 'para', 'con', 'no', 'una', 'su', 'al', 'lo', 'como', 'más', 'pero', 'sus', 'le', 'ya', 'o', 'este', 'sí', 'porque', 'esta', 'entre', 'cuando', 'muy', 'sin', 'sobre', 'también', 'me', 'hasta', 'hay', 'donde', 'quien', 'desde', 'todo', 'nos', 'durante', 'todos', 'uno', 'les', 'ni', 'contra', 'otros', 'ese', 'eso', 'ante', 'ellos', 'e', 'esto', 'mí', 'antes', 'algunos', 'qué', 'unos', 'yo', 'otro', 'otras', 'otra', 'él', 'tanto', 'esa', 'estos', 'mucho', 'quienes', 'nada', 'muchos', 'cual', 'poco', 'ella', 'estar', 'estas', 'algunas', 'algo', 'nosotros', 'mi', 'mis', 'tú', 'te', 'ti', 'tu', 'tus', 'ellas', 'nosotras', 'vosotros', 'vosotras', 'os', 'mío', 'mía', 'míos', 'mías', 'tuyo', 'tuya', 'tuyos', 'tuyas', 'suyo', 'suya', 'suyos', 'suyas', 'nuestro', 'nuestra', 'nuestros', 'nuestras', 'vuestro', 'vuestra', 'vuestros', 'vuestras', 'esos', 'esas', 'estoy', 'estás', 'está', 'estamos', 'estáis', 'están', 'esté', 'estés', 'estemos', 'estéis', 'estén', 'estaré', 'estarás', 'estará', 'estaremos', 'estaréis', 'estarán', 'estaría', 'estarías', 'estaríamos', 'estaríais', 'estarían', 'estaba', 'estabas', 'estábamos', 'estabais', 'estaban', 'estuve', 'estuviste', 'estuvo', 'estuvimos', 'estuvisteis', 'estuvieron', 'estuviera', 'estuvieras', 'estuviéramos', 'estuvierais', 'estuvieran', 'estuviese', 'estuvieses', 'estuviésemos', 'estuvieseis', 'estuviesen', 'estando', 'estado', 'estada', 'estados', 'estadas', 'estad', 'he', 'has', 'ha', 'hemos', 'habéis', 'han', 'haya', 'hayas', 'hayamos', 'hayáis', 'hayan', 'habré', 'habrás', 'habrá', 'habremos', 'habréis', 'habrán', 'habría', 'habrías', 'habríamos', 'habríais', 'habrían', 'había', 'habías', 'habíamos', 'habíais', 'habían', 'hube', 'hubiste', 'hubo', 'hubimos', 'hubisteis', 'hubieron', 'hubiera', 'hubieras', 'hubiéramos', 'hubierais', 'hubieran', 'hubiese', 'hubieses', 'hubiésemos', 'hubieseis', 'hubiesen', 'habiendo', 'habido', 'habida', 'habidos', 'habidas', 'soy', 'eres', 'es', 'somos', 'sois', 'son', 'sea', 'seas', 'seamos', 'seáis', 'sean', 'seré', 'serás', 'será', 'seremos', 'seréis', 'serán', 'sería', 'serías', 'seríamos', 'seríais', 'serían', 'era', 'eras', 'éramos', 'erais', 'eran', 'fui', 'fuiste', 'fue', 'fuimos', 'fuisteis', 'fueron', 'fuera', 'fueras', 'fuéramos', 'fuerais', 'fueran', 'fuese', 'fueses', 'fuésemos', 'fueseis', 'fuesen', 'sintiendo', 'sentido', 'sentida', 'sentidos', 'sentidas', 'siente', 'sentid', 'tengo', 'tienes', 'tiene', 'tenemos', 'tenéis', 'tienen', 'tenga', 'tengas', 'tengamos', 'tengáis', 'tengan', 'tendré', 'tendrás', 'tendrá', 'tendremos', 'tendréis', 'tendrán', 'tendría', 'tendrías', 'tendríamos', 'tendríais', 'tendrían', 'tenía', 'tenías', 'teníamos', 'teníais', 'tenían', 'tuve', 'tuviste', 'tuvo', 'tuvimos', 'tuvisteis', 'tuvieron', 'tuviera', 'tuvieras', 'tuviéramos', 'tuvierais', 'tuvieran', 'tuviese', 'tuvieses', 'tuviésemos', 'tuvieseis', 'tuviesen', 'teniendo', 'tenido', 'tenida', 'tenidos', 'tenidas', 'tened']\n"
     ]
    }
   ],
   "source": [
    "# have a look at the stop words in nltk's corpus\n",
    "print(stopwords.words(\"spanish\"))"
   ]
  },
  {
   "cell_type": "code",
   "execution_count": 11,
   "id": "a4248018",
   "metadata": {},
   "outputs": [
    {
     "name": "stderr",
     "output_type": "stream",
     "text": [
      "[nltk_data] Downloading package wordnet to\n",
      "[nltk_data]     C:\\Users\\Smita\\AppData\\Roaming\\nltk_data...\n",
      "[nltk_data] Downloading package omw-1.4 to\n",
      "[nltk_data]     C:\\Users\\Smita\\AppData\\Roaming\\nltk_data...\n"
     ]
    },
    {
     "data": {
      "text/plain": [
       "True"
      ]
     },
     "execution_count": 11,
     "metadata": {},
     "output_type": "execute_result"
    }
   ],
   "source": [
    "nltk.download('wordnet') # download for lemmatization\n",
    "nltk.download('omw-1.4')"
   ]
  },
  {
   "cell_type": "code",
   "execution_count": 12,
   "id": "40751596",
   "metadata": {},
   "outputs": [
    {
     "name": "stdout",
     "output_type": "stream",
     "text": [
      "['urban', 'farm', 'reduc', 'food', 'transport', 'cost', 'lower', 'carbon', 'footprint', 'provid', 'fresh', 'produc', 'local']\n"
     ]
    }
   ],
   "source": [
    "# Stemming\n",
    "from nltk.stem.porter import PorterStemmer\n",
    "\n",
    "# Reduce words to their stems\n",
    "stemmed = [PorterStemmer().stem(w) for w in words]\n",
    "print(stemmed)"
   ]
  },
  {
   "cell_type": "code",
   "execution_count": 13,
   "id": "85804389",
   "metadata": {},
   "outputs": [
    {
     "name": "stdout",
     "output_type": "stream",
     "text": [
      "['Urban', 'farming', 'reduces', 'food', 'transportation', 'cost', 'lower', 'carbon', 'footprint', 'provides', 'fresh', 'produce', 'locally']\n"
     ]
    }
   ],
   "source": [
    "# Lemmatize\n",
    "from nltk.stem.wordnet import WordNetLemmatizer\n",
    "\n",
    "# Reduce words to their root form\n",
    "lemmatized = [WordNetLemmatizer().lemmatize(w) for w in words]\n",
    "print(lemmatized)"
   ]
  },
  {
   "cell_type": "code",
   "execution_count": 14,
   "id": "ba4ad212",
   "metadata": {},
   "outputs": [
    {
     "name": "stdout",
     "output_type": "stream",
     "text": [
      "Stemming output: ['wait', 'wait', 'studi', 'studi', 'comput']\n",
      "Lemmatization output: ['wait', 'waiting', 'study', 'studying', 'computer']\n"
     ]
    }
   ],
   "source": [
    "# Another stemming and lemmatization example\n",
    "words2 = ['wait', 'waiting' , 'studies', 'studying', 'computers']\n",
    "\n",
    "# Stemming\n",
    "# Reduce words to their stems\n",
    "stemmed = [PorterStemmer().stem(w) for w in words2]\n",
    "print(\"Stemming output: {}\".format(stemmed))\n",
    "\n",
    "# Lemmatization\n",
    "# Reduce words to their root form\n",
    "lemmatized = [WordNetLemmatizer().lemmatize(w) for w in words2]\n",
    "print(\"Lemmatization output: {}\".format(lemmatized))"
   ]
  },
  {
   "cell_type": "code",
   "execution_count": 15,
   "id": "6fc8da27",
   "metadata": {},
   "outputs": [
    {
     "name": "stderr",
     "output_type": "stream",
     "text": [
      "[nltk_data] Downloading package averaged_perceptron_tagger to\n",
      "[nltk_data]     C:\\Users\\Smita\\AppData\\Roaming\\nltk_data...\n",
      "[nltk_data]   Unzipping taggers\\averaged_perceptron_tagger.zip.\n",
      "[nltk_data] Downloading package maxent_ne_chunker to\n",
      "[nltk_data]     C:\\Users\\Smita\\AppData\\Roaming\\nltk_data...\n",
      "[nltk_data]   Unzipping chunkers\\maxent_ne_chunker.zip.\n"
     ]
    },
    {
     "data": {
      "text/plain": [
       "True"
      ]
     },
     "execution_count": 15,
     "metadata": {},
     "output_type": "execute_result"
    }
   ],
   "source": [
    "nltk.download('averaged_perceptron_tagger')\n",
    "nltk.download('maxent_ne_chunker')"
   ]
  },
  {
   "cell_type": "code",
   "execution_count": 16,
   "id": "c953e4de",
   "metadata": {},
   "outputs": [],
   "source": [
    "from nltk import pos_tag"
   ]
  },
  {
   "cell_type": "code",
   "execution_count": 18,
   "id": "6d1b110d",
   "metadata": {},
   "outputs": [
    {
     "name": "stderr",
     "output_type": "stream",
     "text": [
      "[nltk_data] Downloading package words to\n",
      "[nltk_data]     C:\\Users\\Smita\\AppData\\Roaming\\nltk_data...\n",
      "[nltk_data]   Unzipping corpora\\words.zip.\n"
     ]
    },
    {
     "data": {
      "text/plain": [
       "True"
      ]
     },
     "execution_count": 18,
     "metadata": {},
     "output_type": "execute_result"
    }
   ],
   "source": [
    "from nltk import ne_chunk\n",
    "nltk.download('words')"
   ]
  },
  {
   "cell_type": "code",
   "execution_count": 17,
   "id": "f3faccc4",
   "metadata": {},
   "outputs": [
    {
     "data": {
      "text/plain": [
       "[('Urban', 'JJ'),\n",
       " ('farming', 'VBG'),\n",
       " ('reduces', 'NNS'),\n",
       " ('food', 'NN'),\n",
       " ('transportation', 'NN'),\n",
       " ('costs', 'VBZ'),\n",
       " ('lowers', 'NNS'),\n",
       " ('carbon', 'JJ'),\n",
       " ('footprints', 'NNS'),\n",
       " ('provides', 'VBZ'),\n",
       " ('fresh', 'JJ'),\n",
       " ('produce', 'NNS'),\n",
       " ('locally', 'RB')]"
      ]
     },
     "execution_count": 17,
     "metadata": {},
     "output_type": "execute_result"
    }
   ],
   "source": [
    "# tag each word with part of speech\n",
    "pos_tag(words)"
   ]
  },
  {
   "cell_type": "code",
   "execution_count": null,
   "id": "00d782d1",
   "metadata": {},
   "outputs": [],
   "source": [
    "\"\"\"\n",
    "POS\n",
    "\n",
    "CC: It is the conjunction of coordinating\n",
    "CD: It is a digit of cardinal\n",
    "DT: It is the determiner\n",
    "EX: Existential\n",
    "FW: It is a foreign word\n",
    "IN: Preposition and conjunction\n",
    "JJ: Adjective\n",
    "JJR and JJS: Adjective and superlative\n",
    "LS: List marker\n",
    "MD: Modal\n",
    "NN: Singular noun\n",
    "NNS, NNP, NNPS: Proper and plural noun\n",
    "PDT: Predeterminer\n",
    "WRB: Adverb of wh\n",
    "WP$: Possessive wh\n",
    "WP: Pronoun of wh\n",
    "WDT: Determiner of wp\n",
    "VBZ: Verb\n",
    "VBP, VBN, VBG, VBD, VB: Forms of verbs\n",
    "UH: Interjection\n",
    "TO: To go\n",
    "RP: Particle\n",
    "RBS, RB, RBR: Adverb\n",
    "PRP, PRP$: Pronoun personal and professional\n",
    "\n",
    "\"\"\""
   ]
  },
  {
   "cell_type": "code",
   "execution_count": 19,
   "id": "e9836762",
   "metadata": {},
   "outputs": [
    {
     "name": "stdout",
     "output_type": "stream",
     "text": [
      "(S\n",
      "  Urban/JJ\n",
      "  farming/VBG\n",
      "  reduces/NNS\n",
      "  food/NN\n",
      "  transportation/NN\n",
      "  costs/NNS\n",
      "  ,/,\n",
      "  lowers/NNS\n",
      "  carbon/VBP\n",
      "  footprints/NNS\n",
      "  ,/,\n",
      "  and/CC\n",
      "  provides/VBZ\n",
      "  fresh/JJ\n",
      "  produce/NN\n",
      "  locally/RB\n",
      "  ./.)\n"
     ]
    }
   ],
   "source": [
    "ner_tree = ne_chunk(pos_tag(word_tokenize(sentences[2])))\n",
    "print(ner_tree)"
   ]
  },
  {
   "cell_type": "code",
   "execution_count": 20,
   "id": "39d5d2ee",
   "metadata": {},
   "outputs": [
    {
     "name": "stdout",
     "output_type": "stream",
     "text": [
      "(S\n",
      "  (GPE Urban/NNP)\n",
      "  farming/NN\n",
      "  ,/,\n",
      "  the/DT\n",
      "  practice/NN\n",
      "  of/IN\n",
      "  cultivating/VBG\n",
      "  ,/,\n",
      "  processing/NN\n",
      "  ,/,\n",
      "  and/CC\n",
      "  distributing/VBG\n",
      "  food/NN\n",
      "  in/IN\n",
      "  or/CC\n",
      "  around/IN\n",
      "  urban/JJ\n",
      "  areas/NNS\n",
      "  ,/,\n",
      "  is/VBZ\n",
      "  gaining/VBG\n",
      "  popularity/NN\n",
      "  as/IN\n",
      "  cities/NNS\n",
      "  expand/VBP\n",
      "  and/CC\n",
      "  populations/NNS\n",
      "  grow/VBP\n",
      "  ./.\n",
      "  It/PRP\n",
      "  offers/VBZ\n",
      "  a/DT\n",
      "  sustainable/JJ\n",
      "  solution/NN\n",
      "  to/TO\n",
      "  food/NN\n",
      "  security/NN\n",
      "  and/CC\n",
      "  environmental/JJ\n",
      "  challenges/NNS\n",
      "  ,/,\n",
      "  utilizing/VBG\n",
      "  spaces/NNS\n",
      "  like/IN\n",
      "  rooftops/NNS\n",
      "  ,/,\n",
      "  community/NN\n",
      "  gardens/NNS\n",
      "  ,/,\n",
      "  and/CC\n",
      "  vertical/JJ\n",
      "  farms/NNS\n",
      "  ./.\n",
      "  (PERSON Urban/NNP)\n",
      "  farming/VBG\n",
      "  reduces/NNS\n",
      "  food/NN\n",
      "  transportation/NN\n",
      "  costs/NNS\n",
      "  ,/,\n",
      "  lowers/NNS\n",
      "  carbon/VBP\n",
      "  footprints/NNS\n",
      "  ,/,\n",
      "  and/CC\n",
      "  provides/VBZ\n",
      "  fresh/JJ\n",
      "  produce/NN\n",
      "  locally/RB\n",
      "  ./.\n",
      "  Despite/IN\n",
      "  challenges/NNS\n",
      "  such/JJ\n",
      "  as/IN\n",
      "  limited/JJ\n",
      "  space/NN\n",
      "  and/CC\n",
      "  regulatory/JJ\n",
      "  hurdles/NNS\n",
      "  ,/,\n",
      "  its/PRP$\n",
      "  benefits/NNS\n",
      "  include/VBP\n",
      "  improved/JJ\n",
      "  urban/JJ\n",
      "  green/JJ\n",
      "  spaces/NNS\n",
      "  ,/,\n",
      "  economic/JJ\n",
      "  opportunities/NNS\n",
      "  ,/,\n",
      "  and/CC\n",
      "  enhanced/VBD\n",
      "  community/NN\n",
      "  engagement/NN\n",
      "  ./.\n",
      "  (PERSON Urban/NNP)\n",
      "  farming/VBG\n",
      "  represents/VBZ\n",
      "  a/DT\n",
      "  promising/JJ\n",
      "  step/NN\n",
      "  towards/NNS\n",
      "  sustainable/JJ\n",
      "  urban/JJ\n",
      "  development/NN\n",
      "  ./.)\n"
     ]
    }
   ],
   "source": [
    "text = \"Urban farming, the practice of cultivating, processing, and distributing food in or around urban areas, is gaining popularity as cities expand and populations grow. It offers a sustainable solution to food security and environmental challenges, utilizing spaces like rooftops, community gardens, and vertical farms. Urban farming reduces food transportation costs, lowers carbon footprints, and provides fresh produce locally. Despite challenges such as limited space and regulatory hurdles, its benefits include improved urban green spaces, economic opportunities, and enhanced community engagement. Urban farming represents a promising step towards sustainable urban development.\"\n",
    "\n",
    "ner_tree = ne_chunk(pos_tag(word_tokenize(text)))\n",
    "print(ner_tree)"
   ]
  },
  {
   "cell_type": "code",
   "execution_count": 23,
   "id": "4aa547b5",
   "metadata": {},
   "outputs": [
    {
     "name": "stdout",
     "output_type": "stream",
     "text": [
      "(S\n",
      "  The/DT\n",
      "  golden/JJ\n",
      "  rays/NNS\n",
      "  of/IN\n",
      "  the/DT\n",
      "  setting/VBG\n",
      "  sun/NN\n",
      "  painted/VBD\n",
      "  the/DT\n",
      "  sky/NN\n",
      "  in/IN\n",
      "  hues/NNS\n",
      "  of/IN\n",
      "  orange/NN\n",
      "  and/CC\n",
      "  pink/NN\n",
      "  ,/,\n",
      "  casting/VBG\n",
      "  a/DT\n",
      "  warm/JJ\n",
      "  glow/NN\n",
      "  over/IN\n",
      "  the/DT\n",
      "  tranquil/JJ\n",
      "  lake/NN\n",
      "  ./.)\n"
     ]
    }
   ],
   "source": [
    "text = \"The golden rays of the setting sun painted the sky in hues of orange and pink, casting a warm glow over the tranquil lake.\"\n",
    "ner_tree = ne_chunk(pos_tag(word_tokenize(text)))\n",
    "print(ner_tree)"
   ]
  },
  {
   "cell_type": "code",
   "execution_count": null,
   "id": "121597b3",
   "metadata": {},
   "outputs": [],
   "source": [
    " "
   ]
  }
 ],
 "metadata": {
  "kernelspec": {
   "display_name": "Python 3 (ipykernel)",
   "language": "python",
   "name": "python3"
  },
  "language_info": {
   "codemirror_mode": {
    "name": "ipython",
    "version": 3
   },
   "file_extension": ".py",
   "mimetype": "text/x-python",
   "name": "python",
   "nbconvert_exporter": "python",
   "pygments_lexer": "ipython3",
   "version": "3.9.13"
  }
 },
 "nbformat": 4,
 "nbformat_minor": 5
}
